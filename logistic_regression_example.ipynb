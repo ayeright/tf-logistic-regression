{
 "cells": [
  {
   "cell_type": "markdown",
   "metadata": {},
   "source": [
    "### Some setup"
   ]
  },
  {
   "cell_type": "code",
   "execution_count": 1,
   "metadata": {},
   "outputs": [
    {
     "name": "stderr",
     "output_type": "stream",
     "text": [
      "C:\\Users\\scott\\Anaconda3\\lib\\site-packages\\h5py\\__init__.py:34: FutureWarning: Conversion of the second argument of issubdtype from `float` to `np.floating` is deprecated. In future, it will be treated as `np.float64 == np.dtype(float).type`.\n",
      "  from ._conv import register_converters as _register_converters\n"
     ]
    }
   ],
   "source": [
    "import tensorflow as tf\n",
    "from logistic_regression import LogisticRegression\n",
    "from sklearn.datasets import load_breast_cancer\n",
    "from sklearn.preprocessing import StandardScaler\n",
    "from sklearn.metrics import log_loss"
   ]
  },
  {
   "cell_type": "markdown",
   "metadata": {},
   "source": [
    "### Load data and split into labelled and unlabelled training data and validation data"
   ]
  },
  {
   "cell_type": "code",
   "execution_count": 2,
   "metadata": {
    "collapsed": true
   },
   "outputs": [],
   "source": [
    "X, y = load_breast_cancer(return_X_y=True)\n",
    "scaler = StandardScaler()\n",
    "X = scaler.fit_transform(X)"
   ]
  },
  {
   "cell_type": "markdown",
   "metadata": {},
   "source": [
    "### Initialise model"
   ]
  },
  {
   "cell_type": "code",
   "execution_count": 3,
   "metadata": {
    "collapsed": true
   },
   "outputs": [],
   "source": [
    "# define model parameters\n",
    "initialiser = tf.keras.initializers.glorot_uniform()\n",
    "l2_reg = 0.01\n",
    "optimiser = tf.train.AdamOptimizer()\n",
    "\n",
    "# initialise model\n",
    "model = LogisticRegression(initialiser=initialiser,\n",
    "                           l2_reg=l2_reg,\n",
    "                           optimiser=optimiser)"
   ]
  },
  {
   "cell_type": "markdown",
   "metadata": {},
   "source": [
    "### Train  for an initial 10 epochs"
   ]
  },
  {
   "cell_type": "code",
   "execution_count": 4,
   "metadata": {},
   "outputs": [
    {
     "name": "stdout",
     "output_type": "stream",
     "text": [
      "+-----------------------------------------------------------+\n",
      "Running epoch 1 of 10\n",
      "Training loss = 0.4737764\n",
      "+-----------------------------------------------------------+\n",
      "Running epoch 2 of 10\n",
      "Training loss = 0.41992626\n",
      "+-----------------------------------------------------------+\n",
      "Running epoch 3 of 10\n",
      "Training loss = 0.37733498\n",
      "+-----------------------------------------------------------+\n",
      "Running epoch 4 of 10\n",
      "Training loss = 0.34321877\n",
      "+-----------------------------------------------------------+\n",
      "Running epoch 5 of 10\n",
      "Training loss = 0.31502104\n",
      "+-----------------------------------------------------------+\n",
      "Running epoch 6 of 10\n",
      "Training loss = 0.29129598\n",
      "+-----------------------------------------------------------+\n",
      "Running epoch 7 of 10\n",
      "Training loss = 0.27127165\n",
      "+-----------------------------------------------------------+\n",
      "Running epoch 8 of 10\n",
      "Training loss = 0.25443235\n",
      "+-----------------------------------------------------------+\n",
      "Running epoch 9 of 10\n",
      "Training loss = 0.2397321\n",
      "+-----------------------------------------------------------+\n",
      "Running epoch 10 of 10\n",
      "Training loss = 0.22641984\n"
     ]
    }
   ],
   "source": [
    "model.fit(X,\n",
    "          y,\n",
    "          batch_size=32, \n",
    "          num_epochs=10,\n",
    "          verbose=True)"
   ]
  },
  {
   "cell_type": "markdown",
   "metadata": {},
   "source": [
    "### Train for a further 10 epochs"
   ]
  },
  {
   "cell_type": "code",
   "execution_count": 5,
   "metadata": {},
   "outputs": [
    {
     "name": "stdout",
     "output_type": "stream",
     "text": [
      "INFO:tensorflow:Restoring parameters from /tmp/my_model_final.ckpt\n",
      "+-----------------------------------------------------------+\n",
      "Running epoch 1 of 10\n",
      "Training loss = 0.21504432\n",
      "+-----------------------------------------------------------+\n",
      "Running epoch 2 of 10\n",
      "Training loss = 0.20498961\n",
      "+-----------------------------------------------------------+\n",
      "Running epoch 3 of 10\n",
      "Training loss = 0.19591315\n",
      "+-----------------------------------------------------------+\n",
      "Running epoch 4 of 10\n",
      "Training loss = 0.18804109\n",
      "+-----------------------------------------------------------+\n",
      "Running epoch 5 of 10\n",
      "Training loss = 0.1809266\n",
      "+-----------------------------------------------------------+\n",
      "Running epoch 6 of 10\n",
      "Training loss = 0.17435487\n",
      "+-----------------------------------------------------------+\n",
      "Running epoch 7 of 10\n",
      "Training loss = 0.16865194\n",
      "+-----------------------------------------------------------+\n",
      "Running epoch 8 of 10\n",
      "Training loss = 0.16340292\n",
      "+-----------------------------------------------------------+\n",
      "Running epoch 9 of 10\n",
      "Training loss = 0.15866163\n",
      "+-----------------------------------------------------------+\n",
      "Running epoch 10 of 10\n",
      "Training loss = 0.15410565\n"
     ]
    }
   ],
   "source": [
    "model.fit(X,\n",
    "          y,\n",
    "          batch_size=32, \n",
    "          num_epochs=10,\n",
    "          verbose=True)"
   ]
  },
  {
   "cell_type": "markdown",
   "metadata": {},
   "source": [
    "### Compute training loss (should be same as last epoch)"
   ]
  },
  {
   "cell_type": "code",
   "execution_count": 6,
   "metadata": {},
   "outputs": [
    {
     "name": "stdout",
     "output_type": "stream",
     "text": [
      "INFO:tensorflow:Restoring parameters from /tmp/my_model_final.ckpt\n",
      "Training loss = 0.15410565673925058\n"
     ]
    }
   ],
   "source": [
    "p = model.predict(X)\n",
    "loss = log_loss(y, p, eps=1e-5)\n",
    "\n",
    "print('Training loss =', loss)"
   ]
  },
  {
   "cell_type": "markdown",
   "metadata": {},
   "source": [
    "### To open TensorBoard use:\n",
    "\n",
    "tensorboard --logdir=mylogs:{logs directory}"
   ]
  }
 ],
 "metadata": {
  "kernelspec": {
   "display_name": "Python 3",
   "language": "python",
   "name": "python3"
  },
  "language_info": {
   "codemirror_mode": {
    "name": "ipython",
    "version": 3
   },
   "file_extension": ".py",
   "mimetype": "text/x-python",
   "name": "python",
   "nbconvert_exporter": "python",
   "pygments_lexer": "ipython3",
   "version": "3.6.1"
  }
 },
 "nbformat": 4,
 "nbformat_minor": 2
}
